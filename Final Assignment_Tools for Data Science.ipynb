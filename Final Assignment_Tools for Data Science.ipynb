{
 "cells": [
  {
   "cell_type": "markdown",
   "id": "ddb85147",
   "metadata": {},
   "source": [
    "# My Jupyter Notebook on IBM Watson Studio"
   ]
  },
  {
   "cell_type": "markdown",
   "id": "743bacb3",
   "metadata": {},
   "source": [
    "**Peter**\n",
    " <br> \n",
    "Data Scientist"
   ]
  },
  {
   "cell_type": "markdown",
   "id": "0ab5a8e7",
   "metadata": {},
   "source": [
    "*I am interested in data science because I love solving problems, creating knowledge, and being a trusted resource*"
   ]
  },
  {
   "cell_type": "markdown",
   "id": "3647b26c",
   "metadata": {},
   "source": [
    "### My code will print out my name"
   ]
  },
  {
   "cell_type": "code",
   "execution_count": 2,
   "id": "440c9f18",
   "metadata": {},
   "outputs": [
    {
     "name": "stdout",
     "output_type": "stream",
     "text": [
      "Peter\n"
     ]
    }
   ],
   "source": [
    "print(\"Peter\")"
   ]
  },
  {
   "cell_type": "markdown",
   "id": "0b541196",
   "metadata": {},
   "source": [
    ">\"Hi I'm Peter, and my favorite things are:\"\n",
    "<ul>\n",
    "    <li>NY Knicks</li>\n",
    "    <li>Listening to music</li>\n",
    "    <li>Bouldering</li>\n",
    "    <li>Sleeping</li>\n",
    "    <li><a href=\"https://fivethirtyeight.com/\">FiveThirtyEight</a></li>"
   ]
  },
  {
   "cell_type": "code",
   "execution_count": null,
   "id": "ab055b7a",
   "metadata": {},
   "outputs": [],
   "source": []
  }
 ],
 "metadata": {
  "kernelspec": {
   "display_name": "Python 3 (ipykernel)",
   "language": "python",
   "name": "python3"
  },
  "language_info": {
   "codemirror_mode": {
    "name": "ipython",
    "version": 3
   },
   "file_extension": ".py",
   "mimetype": "text/x-python",
   "name": "python",
   "nbconvert_exporter": "python",
   "pygments_lexer": "ipython3",
   "version": "3.8.12"
  }
 },
 "nbformat": 4,
 "nbformat_minor": 5
}
